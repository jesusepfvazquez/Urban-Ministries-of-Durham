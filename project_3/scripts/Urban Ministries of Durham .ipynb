{
 "cells": [
  {
   "cell_type": "markdown",
   "metadata": {},
   "source": [
    "# Urban Ministries of Durham\n",
    "\n",
    "The make file makes use of the **tax.py** and **patientsdata.py** python 3 scripts to create the report. This Juputer Notebook illustrates what those python scripts do when creating the data. \n",
    "\n",
    "This Jupyter notebook is divided into two parts. *Part 1*, conducts the fraud analysis and *Part 2* identifies individuals who got a new disability while staying at the Urban Ministries of Durham. \n",
    "\n",
    "## Part 1 - Fraud Analysis\n",
    "\n",
    "### I. Reading Data and Packages"
   ]
  },
  {
   "cell_type": "code",
   "execution_count": 1,
   "metadata": {},
   "outputs": [],
   "source": [
    "# Importing packages and data\n",
    "import pandas as pd\n",
    "import numpy as np\n",
    "from scipy.stats import mannwhitneyu\n",
    "from scipy.stats import chisquare\n",
    "from sklearn.linear_model import LogisticRegression\n",
    "import matplotlib.pyplot as plt\n",
    "from sklearn import metrics\n",
    "import statsmodels.api as sm\n",
    "# import sys\n",
    "# import math\n",
    "\n",
    "# Importing data and subsetting to only include those years with a positive gain in when reporting taxes \n",
    "df = pd.read_csv(r'../data/IRS.csv')\n",
    "df = df[df.Net >= 0]\n",
    "data = df['Net']\n",
    "# 12 observations"
   ]
  },
  {
   "cell_type": "markdown",
   "metadata": {},
   "source": [
    "### II. Extracting first digit of every number\n",
    "\n",
    "On this code-chunck we will extract the first digit of each number and compare it with the Benford distribution. Any deviations from the theoretical distributions shouls indicate dishonest reporting of income taxes."
   ]
  },
  {
   "cell_type": "code",
   "execution_count": 2,
   "metadata": {},
   "outputs": [],
   "source": [
    "# Counting the first digit\n",
    "def count_first_digit(data_str):\n",
    "    mask=df[data_str]>1.\n",
    "    data=list(df[mask][data_str])\n",
    "    for i in range(len(data)):\n",
    "        while data[i]>10:\n",
    "            data[i]=data[i]/10\n",
    "    first_digits=[int(x) for x in sorted(data)]\n",
    "    unique=(set(first_digits))#a list with unique values of first_digit list\n",
    "    data_count=[]\n",
    "    for i in unique:\n",
    "        count=first_digits.count(i)\n",
    "        data_count.append(count)\n",
    "    total_count=sum(data_count)\n",
    "    data_percentage=[(i/total_count)*100 for i in data_count]\n",
    "    return  total_count,data_count, data_percentage\n",
    "\n",
    "total_count, data_count_pre, data_percentage_pre = count_first_digit(\"Net\")\n",
    "\n",
    "# In this case data_count_pre and data_percentage_pre have the format of [1,3,4,5,6,8]. \n",
    "# Need to add zeros for 2, 7, 9 \n",
    "data_count = []\n",
    "data_percentage = []\n",
    "numbers = []\n",
    "j = 0\n",
    "for i in range(1,10):\n",
    "    numbers.append(i)\n",
    "    if i in (2,7,9):\n",
    "        data_count.append(0)\n",
    "        data_percentage.append(0)\n",
    "    else:\n",
    "        data_count.append(data_count_pre[j])\n",
    "        data_percentage.append(data_percentage_pre[j])\n",
    "        j = j+1\n",
    "            \n",
    "            \n",
    "# Benford's Law percentages for leading digits 1-9\n",
    "BENFORD = [30.1, 17.6, 12.5, 9.7, 7.9, 6.7, 5.8, 5.1, 4.6]\n",
    "\n",
    "# Get the expected number of counts\n",
    "expected_counts=[round(p * total_count / 100) for p in BENFORD]"
   ]
  },
  {
   "cell_type": "markdown",
   "metadata": {},
   "source": [
    "### III. Test for fraud\n",
    "\n",
    "**Large Sample Theory**\n",
    "\n",
    "When conducting this analysis one assumes that we have a record of a business taxes for many years so it's typical to use a Chi-Square Test to test for differences between the empirical and the theorical distributions. It is recommened for one to have at least 40 observations but in this case we only have 12. The following are the results from the Chi-Square Test."
   ]
  },
  {
   "cell_type": "code",
   "execution_count": 3,
   "metadata": {},
   "outputs": [
    {
     "name": "stdout",
     "output_type": "stream",
     "text": [
      "Power_divergenceResult(statistic=9.5, pvalue=0.30188558340263894)\n"
     ]
    }
   ],
   "source": [
    "# Observed vs Expected  \n",
    "print(chisquare(data_count, expected_counts))"
   ]
  },
  {
   "cell_type": "markdown",
   "metadata": {},
   "source": [
    "From the Chi-Square Test we can observe that the sampled data does not provide sufficient evidence to reject the null hypothesis that the empirical distribution does not come from the Benford Distribution with a p-value of 0.30. We can conlude, from the large sample test that there is not sufficient evidence to reject the claim that Urban Ministriest of Durham does not engage in dishonest tax-reporting. \n",
    "\n",
    "**Small Sample Theory**\n",
    "\n",
    "To validate results I a small sample permutation test was conducted. The Mann-Whitney test was used to confirm the results from the Chi-Square. The results are as follows,   "
   ]
  },
  {
   "cell_type": "code",
   "execution_count": 4,
   "metadata": {},
   "outputs": [],
   "source": [
    "# Wilxocon Rank-Sum Test\n",
    "mannwhitneyu(data_count,expected_counts)\n",
    "\n",
    "# Export data\n",
    "data = {'Counts':data_count, 'ExpectedCounts':expected_counts} \n",
    "pd.DataFrame(data).to_csv(\"fraud_chisq.csv\") "
   ]
  },
  {
   "cell_type": "markdown",
   "metadata": {},
   "source": [
    "From the Mann-Whitney Test we can observe that the sampled data does not provide sufficient evidence to reject the null hypothesis that the empirical distribution does not come from the Benford Distribution with a p-value of 0.23. We can conclude that neither the small sample nor the large sample test show sufficient evidence to reject the claim that Urban Ministriest of Durham does not engage in dishonest tax-reporting. "
   ]
  },
  {
   "cell_type": "code",
   "execution_count": 5,
   "metadata": {},
   "outputs": [
    {
     "data": {
      "image/png": "[encoded data removed]",
      "text/plain": [
       "<Figure size 432x288 with 1 Axes>"
      ]
     },
     "metadata": {
      "needs_background": "light"
     },
     "output_type": "display_data"
    }
   ],
   "source": [
    "# create plot\n",
    "n_groups = 9\n",
    "objects = np.arange(n_groups)\n",
    "index = np.arange(n_groups)\n",
    "fig, ax = plt.subplots()\n",
    "bar_width = 0.35\n",
    "opacity = 0.8\n",
    "\n",
    "rects1 = plt.bar(objects, BENFORD, bar_width,\n",
    "alpha=opacity,\n",
    "color='b',\n",
    "label='Benford Distribution')\n",
    "\n",
    "rects2 = plt.bar(objects + bar_width, data_percentage, bar_width,\n",
    "alpha=opacity,\n",
    "label='UMD Income Tax Distribution')\n",
    "\n",
    "plt.xlabel('Digit')\n",
    "plt.ylabel('Percentage (%)')\n",
    "plt.title('Figure 1: Income Tax Empirical vs. Benford Distribution')\n",
    "plt.xticks(index + bar_width, ('1', '2', '3', '4', '5', '6', '7', '8', '9'))\n",
    "plt.legend()\n",
    "\n",
    "plt.tight_layout()\n",
    "plt.show()"
   ]
  },
  {
   "cell_type": "markdown",
   "metadata": {},
   "source": [
    "**Figure** 1 above represents the empirical distribution of the first digit reported as the net income (revenue minus expenses) in light blue vs the theoretical distribution in dark blue. From visual inspection we can observe that the majority of the revenue values beggin with either a 1 or a 5. According to past IRS analyzes, individuals that engage in dishonest income tax reporting tend to pick values in the middle and not so much from the extremes (eg. 1 or 9), as it happens in this case. From visual inspection we can observe some evidence of potential dishonesty but we would need more more observations to validate results."
   ]
  },
  {
   "cell_type": "code",
   "execution_count": 6,
   "metadata": {},
   "outputs": [],
   "source": [
    "# Save data and export to recreate plot in R-Studio\n",
    "out_tax = pd.DataFrame(columns=['Number', 'Empirical Percentage', 'Benford Distribution'])\n",
    "out_tax['Number'] = numbers\n",
    "out_tax['Empirical Percentage'] = data_percentage\n",
    "out_tax['Benford Percentage'] = BENFORD\n",
    "\n",
    "out_tax = pd.melt(out_tax, id_vars =['Number'], value_vars =['Empirical Percentage', 'Benford Percentage']) \n",
    "\n",
    "# Exporting data to folder data under projects\n",
    "out_tax.to_csv('tax_data_graph.csv')"
   ]
  },
  {
   "cell_type": "markdown",
   "metadata": {},
   "source": [
    "## Part 2: Disability Analysis\n",
    "\n",
    "In this section we are interested in identifying those homeless who got a disability while staying at the Urban Ministries of Durham. Characteristics of interest are socio-demographics and length of stay. "
   ]
  },
  {
   "cell_type": "code",
   "execution_count": 7,
   "metadata": {},
   "outputs": [],
   "source": [
    "# Import Data\n",
    "my_client = pd.read_csv(\"https://raw.githubusercontent.com/biodatascience/datasci611/gh-pages/data/project2_2019/CLIENT_191102.tsv\", sep = '\\t')[['Client ID', 'Client Age at Entry', 'Client Age at Exit', 'Client Gender', 'Client Primary Race', 'Client Ethnicity']]\n",
    "my_disability_entry = pd.read_csv(\"https://raw.githubusercontent.com/biodatascience/datasci611/gh-pages/data/project2_2019/DISABILITY_ENTRY_191102.tsv\", sep = '\\t')[['Client ID','Disability Determination (Entry)', 'Disability Type (Entry)']]\n",
    "my_disability_exit = pd.read_csv(\"https://raw.githubusercontent.com/biodatascience/datasci611/gh-pages/data/project2_2019/DISABILITY_EXIT_191102.tsv\", sep = '\\t')[['Client ID','Disability Determination (Exit)', 'Disability Type (Exit)']]"
   ]
  },
  {
   "cell_type": "code",
   "execution_count": 8,
   "metadata": {},
   "outputs": [],
   "source": [
    "# Rename and merge all datasets\n",
    "my_disability_entry.rename(columns = {'Disability Type (Entry)':'Disability Type'}, inplace = True)\n",
    "my_disability_exit.rename(columns = {'Disability Type (Exit)':'Disability Type'}, inplace = True)\n",
    "\n",
    "# Merge data by client ID\n",
    "my_disability = pd.merge(my_disability_entry, my_disability_exit, on=['Disability Type','Client ID'], how = 'right')\n",
    "my_disability.drop_duplicates(keep=False,inplace=True)\n",
    "\n",
    "# Flag those patients who got a disability while at the UMD\n",
    "my_disability[\"GotDisability\"] = 0\n",
    "my_disability.loc[(my_disability['Disability Determination (Entry)'] == 'No (HUD)') &\n",
    "                            (my_disability['Disability Determination (Exit)'] == 'Yes (HUD)'), 'GotDisability'] = 1"
   ]
  },
  {
   "cell_type": "markdown",
   "metadata": {},
   "source": [
    "### Statistical Analysis\n",
    "\n",
    "**Fitting Logistic Regression**"
   ]
  },
  {
   "cell_type": "code",
   "execution_count": 9,
   "metadata": {},
   "outputs": [
    {
     "name": "stdout",
     "output_type": "stream",
     "text": [
      "                           Logit Regression Results                           \n",
      "==============================================================================\n",
      "Dep. Variable:          GotDisability   No. Observations:                10244\n",
      "Model:                          Logit   Df Residuals:                    10233\n",
      "Method:                           MLE   Df Model:                           10\n",
      "Date:                Wed, 27 Nov 2019   Pseudo R-squ.:                 -0.5950\n",
      "Time:                        12:18:45   Log-Likelihood:                -399.71\n",
      "converged:                       True   LL-Null:                       -250.61\n",
      "Covariance Type:            nonrobust   LLR p-value:                     1.000\n",
      "==========================================================================================================\n",
      "                                             coef    std err          z      P>|z|      [0.025      0.975]\n",
      "----------------------------------------------------------------------------------------------------------\n",
      "Age_Cat_25-34                             -5.5843      0.713     -7.837      0.000      -6.981      -4.188\n",
      "Age_Cat_35-44                             -5.6073      0.710     -7.899      0.000      -6.999      -4.216\n",
      "Age_Cat_45-54                             -3.6410      0.273    -13.340      0.000      -4.176      -3.106\n",
      "Age_Cat_55-64                             -3.3517      0.256    -13.077      0.000      -3.854      -2.849\n",
      "Age_Cat_>64                               -4.1862      0.710     -5.893      0.000      -5.578      -2.794\n",
      "Gender_Female                             -1.5455      0.255     -6.063      0.000      -2.045      -1.046\n",
      "Gender_Trans Female                       -2.9771      8.479     -0.351      0.726     -19.596      13.641\n",
      "Race_American Indian or Alaska Native     -2.8535      0.729     -3.916      0.000      -4.282      -1.425\n",
      "Race_Black or African American            -2.8305      0.188    -15.064      0.000      -3.199      -2.462\n",
      "Race_Other                                -8.9202     47.164     -0.189      0.850    -101.360      83.520\n",
      "Race_Unknown                             -11.8624    117.945     -0.101      0.920    -243.031     219.306\n",
      "==========================================================================================================\n"
     ]
    }
   ],
   "source": [
    "# Merge and remove the (HUD)\n",
    "my_patients = pd.merge(my_disability, my_client, on = 'Client ID', how = 'left')\n",
    "my_patients.replace(regex=True,inplace=True,to_replace=\"(HUD)\",value=r'')\n",
    "my_patients.replace(regex=True,inplace=True,to_replace=r\"\\(.*\\)\",value=r'')\n",
    "\n",
    "# Indicator for age group\n",
    "my_patients.loc[(my_patients['Client Age at Exit'] < 25), 'Age_Cat'] = '<25'\n",
    "my_patients.loc[(my_patients['Client Age at Exit'] < 35) & \n",
    "                (my_patients['Client Age at Exit'] >= 25), 'Age_Cat'] = '25-34'\n",
    "my_patients.loc[(my_patients['Client Age at Exit'] < 45) & \n",
    "                (my_patients['Client Age at Exit'] >= 35), 'Age_Cat'] = '35-44'\n",
    "my_patients.loc[(my_patients['Client Age at Exit'] < 55) & \n",
    "                (my_patients['Client Age at Exit'] >= 45), 'Age_Cat'] = '45-54'\n",
    "my_patients.loc[(my_patients['Client Age at Exit'] < 65) & \n",
    "                (my_patients['Client Age at Exit'] >= 55), 'Age_Cat'] = '55-64'\n",
    "my_patients.loc[(my_patients['Client Age at Exit'] >= 65), 'Age_Cat'] = '>64'\n",
    "\n",
    "# Grouping Unkown Races\n",
    "my_patients['Client Primary Race'].replace(regex=True,inplace=True,to_replace=\"Client refused\",value=r'Unknown')\n",
    "my_patients['Client Primary Race'].replace(regex=True,inplace=True,to_replace=\"Data not collected\",value=r'Unknown')\n",
    "my_patients['Client Primary Race'].replace(regex=True,inplace=True,to_replace=\"Asian\",value=r'Other')\n",
    "my_patients['Client Primary Race'].replace(regex=True,inplace=True,to_replace=\"Native Hawaiian or Other Pacific Islander\",value=r'Other')\n",
    "\n",
    "\n",
    "# Rename and create dummy variables\n",
    "my_patients.rename(columns = {'Client Primary Race':'Race'}, inplace = True)\n",
    "my_patients.rename(columns = {'Client Gender':'Gender'}, inplace = True)\n",
    "dummy = pd.get_dummies(my_patients[['Age_Cat', 'Gender','Race','GotDisability']])      \n",
    "\n",
    "# Assigning predictors \n",
    "y = dummy['GotDisability']\n",
    "X = dummy.drop(columns = ['GotDisability', 'Age_Cat_<25','Gender_Male'])\n",
    "X = X.iloc[:, :-1]\n",
    "\n",
    "# Get Parameter Estimates\n",
    "logit_model=sm.Logit(y,X)\n",
    "result=logit_model.fit(method = 'lbfgs', fit_intercept=True)\n",
    "\n",
    "text = result.summary().as_text()\n",
    "print(result.summary())\n",
    "\n",
    "# Saving output\n",
    "with open('logisticoutput.txt', 'w') as fh:\n",
    "    fh.write(text)"
   ]
  },
  {
   "cell_type": "markdown",
   "metadata": {},
   "source": [
    "The summary statistics for the coefficients are as follows:"
   ]
  },
  {
   "cell_type": "markdown",
   "metadata": {},
   "source": [
    "**Model Diagnostics**"
   ]
  },
  {
   "cell_type": "code",
   "execution_count": 10,
   "metadata": {},
   "outputs": [
    {
     "data": {
      "image/png": "[encoded data removed]",
      "text/plain": [
       "<Figure size 432x288 with 1 Axes>"
      ]
     },
     "metadata": {
      "needs_background": "light"
     },
     "output_type": "display_data"
    }
   ],
   "source": [
    "# Calculate AUC\n",
    "logit_model=LogisticRegression(solver='lbfgs', fit_intercept=True)\n",
    "logit_model.fit(X,y)\n",
    "\n",
    "y_pred_proba = logit_model.predict_proba(X)[::,1]\n",
    "fpr, tpr, _ = metrics.roc_curve(y,  y_pred_proba)\n",
    "auc = metrics.roc_auc_score(y, y_pred_proba)\n",
    "plt.plot(fpr,tpr,label=\"data 1, auc=\"+str(auc))\n",
    "plt.legend(loc=4)\n",
    "plt.title('ROC Curve of Model')\n",
    "plt.show()"
   ]
  },
  {
   "cell_type": "markdown",
   "metadata": {},
   "source": [
    "*Saving output*"
   ]
  },
  {
   "cell_type": "code",
   "execution_count": 12,
   "metadata": {},
   "outputs": [
    {
     "name": "stdout",
     "output_type": "stream",
     "text": [
      "                                     N\n",
      "Gender Disability Type                \n",
      "Female Both Alcohol and Drug Abuse   1\n",
      "       Chronic Health Condition      3\n",
      "       HIV/AIDS                      1\n",
      "       Mental Health Problem         8\n",
      "       Physical                      5\n",
      "Male   Alcohol Abuse                 2\n",
      "       Both Alcohol and Drug Abuse   2\n",
      "       Chronic Health Condition      4\n",
      "       Developmental                 1\n",
      "       Drug Abuse                    2\n",
      "       HIV/AIDS                      1\n",
      "       Mental Health Problem         6\n",
      "       Physical                      2\n"
     ]
    }
   ],
   "source": [
    "#Save data to create plots\n",
    "\n",
    "# Demographics graph\n",
    "my_patients[my_patients.GotDisability == 1].to_csv('patients_data_graph.csv')\n",
    "\n",
    "# Disability Tabulation\n",
    "mysummary = my_patients[my_patients.GotDisability == 1].groupby(['Gender', 'Disability Type']).count()[['Client ID']]\n",
    "mysummary.rename(columns = {'Client ID':'N'}, inplace = True)\n",
    "mysummary.to_csv('counts.csv')\n",
    "\n",
    "# Logistic Regression Data\n",
    "my_patients.to_csv('logistic_data.csv')"
   ]
  }
 ],
 "metadata": {
  "kernelspec": {
   "display_name": "Python 3",
   "language": "python",
   "name": "python3"
  },
  "language_info": {
   "codemirror_mode": {
    "name": "ipython",
    "version": 3
   },
   "file_extension": ".py",
   "mimetype": "text/x-python",
   "name": "python",
   "nbconvert_exporter": "python",
   "pygments_lexer": "ipython3",
   "version": "3.7.4"
  }
 },
 "nbformat": 4,
 "nbformat_minor": 2
}
